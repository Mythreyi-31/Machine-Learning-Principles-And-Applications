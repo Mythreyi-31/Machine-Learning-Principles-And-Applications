{
  "cells": [
    {
      "cell_type": "code",
      "execution_count": 1,
      "metadata": {
        "id": "5dEgRpy3952M"
      },
      "outputs": [],
      "source": [
        "## Load libraries\n",
        "import numpy as np\n",
        "import sys\n",
        "import matplotlib.pyplot as plt\n",
        "import matplotlib.cm as cm\n",
        "plt.style.use('dark_background')\n",
        "%matplotlib inline"
      ]
    },
    {
      "cell_type": "code",
      "execution_count": 2,
      "metadata": {
        "id": "4T7eUtw7Mh0z"
      },
      "outputs": [
        {
          "name": "stdout",
          "output_type": "stream",
          "text": [
            "WARNING:tensorflow:From c:\\Users\\vp140\\.conda\\envs\\pycaretenv\\lib\\site-packages\\keras\\src\\losses.py:2976: The name tf.losses.sparse_softmax_cross_entropy is deprecated. Please use tf.compat.v1.losses.sparse_softmax_cross_entropy instead.\n",
            "\n"
          ]
        }
      ],
      "source": [
        "import tensorflow as tf"
      ]
    },
    {
      "cell_type": "code",
      "execution_count": 3,
      "metadata": {
        "id": "Q1e2N5S8MlCU"
      },
      "outputs": [
        {
          "data": {
            "text/plain": [
              "'2.15.0'"
            ]
          },
          "execution_count": 3,
          "metadata": {},
          "output_type": "execute_result"
        }
      ],
      "source": [
        "tf.__version__"
      ]
    },
    {
      "cell_type": "code",
      "execution_count": 4,
      "metadata": {
        "id": "B4EjOi-OM4Gp"
      },
      "outputs": [
        {
          "name": "stdout",
          "output_type": "stream",
          "text": [
            "[[7 4 9 5 7]\n",
            " [3 7 8 9 6]\n",
            " [3 5 5 8 3]\n",
            " [9 3 8 4 8]]\n",
            "------\n",
            "[0 2 0 2 2]\n",
            "------\n",
            "[[1. 0. 0.]\n",
            " [0. 0. 1.]\n",
            " [1. 0. 0.]\n",
            " [0. 0. 1.]\n",
            " [0. 0. 1.]]\n"
          ]
        }
      ],
      "source": [
        "# Generate artificial data with 5 samples, 4 features per sample\n",
        "# and 3 output classes\n",
        "num_samples = 5 # number of samples\n",
        "num_features = 4 # number of features (a.k.a. dimensionality)\n",
        "num_labels = 3 # number of output labels\n",
        "# Data matrix (each column = single sample)\n",
        "X = np.random.choice(np.arange(3, 10), size = (num_features, num_samples), replace = True)\n",
        "# Class labels\n",
        "y = np.random.choice([0, 1, 2], size = num_samples, replace = True)\n",
        "print(X)\n",
        "print('------')\n",
        "print(y)\n",
        "print('------')\n",
        "# One-hot encode class labels\n",
        "y = tf.keras.utils.to_categorical(y)\n",
        "print(y)"
      ]
    },
    {
      "cell_type": "markdown",
      "metadata": {
        "id": "IrXipxwrJ0_8"
      },
      "source": [
        "---\n",
        "\n",
        "A generic layer class with forward and backward methods\n",
        "\n",
        "----"
      ]
    },
    {
      "cell_type": "code",
      "execution_count": 5,
      "metadata": {
        "id": "N4pKUhCyMrWm"
      },
      "outputs": [],
      "source": [
        "class Layer:\n",
        "  def __init__(self):\n",
        "    self.input = None\n",
        "    self.output = None\n",
        "\n",
        "  def forward(self, input):\n",
        "    pass\n",
        "\n",
        "  def backward(self, output_gradient, learning_rate):\n",
        "    pass"
      ]
    },
    {
      "cell_type": "markdown",
      "metadata": {
        "id": "vdLfiQSlOSUU"
      },
      "source": [
        "---\n",
        "\n",
        "The softmax classifier steps for a generic sample $\\mathbf{x}$ with (one-hot encoded) true label $\\mathbf{y}$ (3 possible categories) using a randomly initialized weights matrix (with bias abosrbed as its last last column):\n",
        "\n",
        "1. Calculate raw scores vector for a generic sample $\\mathbf{x}$  (bias feature added): $$\\mathbf{z} = \\mathbf{Wx}.$$\n",
        "2. Calculate softmax probabilities (that is, softmax-activate the raw scores) $$\\mathbf{a} = \\text{softmax}(\\mathbf{z})\\Rightarrow\\begin{bmatrix}a_0\\\\a_1\\\\a_2\\end{bmatrix}= \\text{softmax}\\left(\\begin{bmatrix}z_0\\\\z_1\\\\z_2\\end{bmatrix}\\right)=\\begin{bmatrix}\\frac{e^{z_0}}{e^{z_0}+e^{z_1}+e^{z_2}}\\\\\\frac{e^{z_1}}{e^{z_0}+e^{z_1}+e^{z_2}}\\\\\\frac{e^{z_2}}{e^{z_0}+e^{z_1}+e^{z_2}}\\end{bmatrix}$$\n",
        "3. Softmax loss for this sample is (where output label $y$ is not yet one-hot encoded)\n",
        "$$\\begin{align*}L &=  -\\log([a]_y) \\\\&= -\\log\\left(\\left[\\text{softmax}(\\mathbf{z})\\right]_y\\right)\\\\ &= -\\log\\left(\\left[\\text{softmax}(\\mathbf{Wx})\\right]_y\\right).\\end{align*}$$\n",
        "4. Predicted probability vector that the sample belongs to each one of the output categories is given a new name $$\\hat{\\mathbf{y}} = \\mathbf{a}.$$\n",
        "5. One-hot encoding the output label $$\\underbrace{y\\rightarrow\\mathbf{y}}_{\\text{e.g.}\\,2\\,\\rightarrow\\begin{bmatrix}0\\\\0\\\\1\\end{bmatrix}}$$ results in the following representation for the softmax loss for the sample which is also referred to as the categorical crossentropy (CCE) loss:\n",
        "$$\\begin{align*}L &= L\\left(\\mathbf{y},\\hat{\\mathbf{y}}\\right)=\\sum_{k=0}^2-y_k\\log\\left(\\hat{y}_k\\right)\\end{align*}.$$\n",
        "5. Calculate the gradient of the loss for the sample w.r.t. weights by following the computation graph from top to bottom (that is, backward):\n",
        "$$\\begin{align*} L\\\\{\\color{yellow}\\downarrow}\\\\ \\hat{\\mathbf{y}} &= \\mathbf{a}\\\\{\\color{yellow}\\downarrow}\\\\\\mathbf{z}\\\\{\\color{yellow}\\downarrow}\\\\\\mathbf{W}\\end{align*}$$\n",
        "$$\\begin{align*}\\Rightarrow \\nabla_\\mathbf{W}(L) &= \\nabla_\\mathbf{W}(\\mathbf{z}) \\times\\nabla_\\mathbf{z}(\\mathbf{a})\\times\\nabla_\\mathbf{a}(L)\\\\&= \\underbrace{\\nabla_\\mathbf{W}(\\mathbf{z})}_\\text{first term} \\times\\underbrace{\\nabla_\\mathbf{z}(\\mathbf{a})}_\\text{second to last term}\\times\\underbrace{\\nabla_\\hat{\\mathbf{y}}(L)}_\\text{last term}.\\end{align*}$$\n",
        "7. Now focus on the last term $\\nabla_\\hat{\\mathbf{y}}(L)$:\n",
        "$$\\begin{align*}\\nabla_\\hat{\\mathbf{y}}(L) &=\\begin{bmatrix}\\nabla_{\\hat{y}_0}(L)\\\\\\nabla_{\\hat{y}_1}(L)\\\\\\nabla_{\\hat{y}_2}(L)\\end{bmatrix} = \\begin{bmatrix}-y_0/\\hat{y}_0\\\\-y_1/\\hat{y}_2\\\\-y_0/\\hat{y}_2.\\end{bmatrix}\\end{align*}$$\n",
        "8. Now focus on the second to last term $\\nabla_\\mathbf{z}(\\mathbf{a})$:\n",
        "$$\\begin{align*}\\nabla_\\mathbf{z}(\\mathbf{a}) &= \\nabla_\\mathbf{z}\\left(\\begin{bmatrix}a_0\\\\a_1\\\\a_2\\end{bmatrix}\\right)\\\\ &= \\begin{bmatrix}\\nabla_\\mathbf{z}(a_0)&\\nabla_\\mathbf{z}(a_1)&\\nabla_\\mathbf{z}(a_2)\\end{bmatrix} \\\\&= \\begin{bmatrix}\\nabla_{z_0}(a_0)&\\nabla_{z_0}(a_1)&\\nabla_{z_0}(a_2)\\\\\\nabla_{z_1}(a_0)&\\nabla_{z_1}(a_1)&\\nabla_{z_1}(a_2)\\\\\\nabla_{z_2}(a_0)&\\nabla_{z_2}(a_1)&\\nabla_{z_2}(a_2)\\end{bmatrix}\\\\&=\\begin{bmatrix}a_0(1-a_0)&-a_1a_0&-a_2a_0\\\\-a_0a_1&a_1(1-a_1)&-a_1a_1\\\\-a_0a_2&-a_1a_2&a_2(1-a_2)\\end{bmatrix}.\\end{align*}$$\n",
        "9. On Monday, we will focus on the first term to complete the gradient calculation using the computation graph.\n",
        "\n",
        "\n",
        "---"
      ]
    },
    {
      "cell_type": "code",
      "execution_count": 6,
      "metadata": {
        "id": "4x1Xn3AbJlNy"
      },
      "outputs": [],
      "source": [
        "## Softmax activation class\n",
        "class Softmax(Layer):\n",
        "  def forward(self, input):\n",
        "    self.output = np.array(tf.nn.softmax(input))\n",
        "\n",
        "  def backward(self, output_gradient, learning_rate):\n",
        "    return(np.dot((np.identity(np.size(self.output))-self.output.T) * self.output, output_gradient))"
      ]
    },
    {
      "cell_type": "code",
      "execution_count": 7,
      "metadata": {
        "id": "tEmuLjCeRFVI"
      },
      "outputs": [],
      "source": [
        "## Define the loss function and its gradient\n",
        "def cce(y, yhat):\n",
        "  return(-np.sum(y*np.log(yhat)))\n",
        "\n",
        "def cce_gradient(y, yhat):\n",
        "  return(-y/yhat)\n",
        "\n",
        "# TensorFlow in-built function for categorical crossentropy loss\n",
        "#cce = tf.keras.losses.CategoricalCrossentropy()"
      ]
    },
    {
      "cell_type": "code",
      "execution_count": 8,
      "metadata": {
        "id": "LGIzrN-rPuI4"
      },
      "outputs": [
        {
          "name": "stdout",
          "output_type": "stream",
          "text": [
            "[[7. 4. 9. 5. 7.]\n",
            " [3. 7. 8. 9. 6.]\n",
            " [3. 5. 5. 8. 3.]\n",
            " [9. 3. 8. 4. 8.]\n",
            " [1. 1. 1. 1. 1.]]\n",
            "Sample 1, Cross-Entropy Loss: 0.9640509738590065  and Gradient: [-2.62229785 -0.         -0.        ]\n",
            "Sample 2, Cross-Entropy Loss: 6.706457523464683  and Gradient: [  -0.           -0.         -817.66892987]\n",
            "Sample 3, Cross-Entropy Loss: 0.030710620088794674  and Gradient: [-1.03118706 -0.         -0.        ]\n",
            "Sample 4, Cross-Entropy Loss: 9.709147884942377  and Gradient: [    -0.             -0.         -16467.56363758]\n",
            "Sample 5, Cross-Entropy Loss: 2.367832785929178  and Gradient: [ -0.          -0.         -10.67423385]\n"
          ]
        }
      ],
      "source": [
        "## Train the 0-layer neural network using batch training with batch size = 1\n",
        "\n",
        "# Steps: run over each sample, calculate loss, gradient of loss,\n",
        "# and update weights.\n",
        "\n",
        "# Step-1: add the bias feature to all the samples\n",
        "X_bias = np.vstack((X, np.ones(X.shape[1])))\n",
        "print(X_bias)\n",
        "\n",
        "# Step-2: initialize the entries of the weights matrix randomly\n",
        "W = np.random.rand(num_labels, num_features + 1)\n",
        "\n",
        "# Step-3: create softmax layer object softmax\n",
        "softmax = Softmax()\n",
        "\n",
        "# Step-4: run over each sample\n",
        "for i in range(X.shape[1]):\n",
        "  z = np.dot(W, X_bias[:, i])\n",
        "  softmax.forward(z)\n",
        "  cce_loss = cce(y[i, :], softmax.output)\n",
        "  print(f\"Sample {i + 1}, Cross-Entropy Loss: {cce_loss}  and Gradient: {cce_gradient(y[i, :], softmax.output)}\")\n",
        "  \n",
        "   # (d) Print gradient"
      ]
    }
  ],
  "metadata": {
    "colab": {
      "provenance": []
    },
    "kernelspec": {
      "display_name": "Python 3",
      "name": "python3"
    },
    "language_info": {
      "codemirror_mode": {
        "name": "ipython",
        "version": 3
      },
      "file_extension": ".py",
      "mimetype": "text/x-python",
      "name": "python",
      "nbconvert_exporter": "python",
      "pygments_lexer": "ipython3",
      "version": "3.9.17"
    }
  },
  "nbformat": 4,
  "nbformat_minor": 0
}
